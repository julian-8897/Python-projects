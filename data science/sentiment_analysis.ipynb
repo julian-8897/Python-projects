{
 "cells": [
  {
   "cell_type": "markdown",
   "metadata": {},
   "source": [
    "### Useful Classes and functions"
   ]
  },
  {
   "cell_type": "code",
   "execution_count": 54,
   "metadata": {},
   "outputs": [],
   "source": [
    "import random\n",
    "\n",
    "class Sentiment:\n",
    "    negative = \"negative\"\n",
    "    positive = \"positive\"\n",
    "\n",
    "class Review:\n",
    "    def __init__(self, text, score):\n",
    "        self.text = text\n",
    "        self.score = score\n",
    "        self.sentiment = self.get_sentiment()\n",
    "\n",
    "    def get_sentiment(self):\n",
    "        if self.score <= 2:\n",
    "            return Sentiment.negative\n",
    "\n",
    "        if self.score > 3:\n",
    "            return Sentiment.positive\n",
    "\n",
    "class ReviewCustom:\n",
    "    def __init__(self, reviews):\n",
    "        self.reviews = reviews\n",
    "\n",
    "    def distribute_even(self):\n",
    "        neg_reviews = list(filter(lambda x: x.sentiment == Sentiment.negative, self.reviews))\n",
    "        pos_reviews = list(filter(lambda x: x.sentiment == Sentiment.positive, self.reviews))\n",
    "        pos_new = pos_reviews[:len(neg_reviews)]\n",
    "        self.reviews = neg_reviews + pos_new\n",
    "        random.shuffle(self.reviews)\n",
    "\n",
    "    def get_text(self):\n",
    "        return [x.text for x in self.reviews]\n",
    "\n",
    "    def get_sentiment(self):\n",
    "        return [x.sentiment for x in self.reviews]"
   ]
  },
  {
   "cell_type": "markdown",
   "metadata": {},
   "source": [
    "### Loading Amazon Instant Video JSON review data, source: http://jmcauley.ucsd.edu/data/amazon/"
   ]
  },
  {
   "cell_type": "code",
   "execution_count": 55,
   "metadata": {},
   "outputs": [
    {
     "name": "stdout",
     "output_type": "stream",
     "text": [
      "I had big expectations because I love English TV, in particular Investigative and detective stuff but this guy is really boring. It didn't appeal to me at all.\n"
     ]
    }
   ],
   "source": [
    "import json\n",
    "\n",
    "file = 'json/Amazon_Instant_Video_5.json'\n",
    "\n",
    "reviews = []\n",
    "\n",
    "with open(file) as f:\n",
    "    for line in f:\n",
    "        review = json.loads(line)\n",
    "        reviews.append(Review(review['reviewText'], review['overall']))\n",
    "\n",
    "print(reviews[0].text)"
   ]
  },
  {
   "cell_type": "markdown",
   "metadata": {},
   "source": [
    "### Data Preparation"
   ]
  },
  {
   "cell_type": "code",
   "execution_count": 56,
   "metadata": {},
   "outputs": [],
   "source": [
    "from sklearn.model_selection import train_test_split\n",
    "\n",
    "#train-test split\n",
    "train, test = train_test_split(reviews, test_size = 0.2, random_state=1)\n",
    "train_new = ReviewCustom(train)\n",
    "test_new = ReviewCustom(test)\n",
    "test_new.distribute_even()"
   ]
  },
  {
   "cell_type": "code",
   "execution_count": 57,
   "metadata": {},
   "outputs": [
    {
     "data": {
      "text/plain": [
       "2886"
      ]
     },
     "execution_count": 57,
     "metadata": {},
     "output_type": "execute_result"
    }
   ],
   "source": [
    "train_new.distribute_even()\n",
    "X_train = train_new.get_text()\n",
    "Y_train = train_new.get_sentiment()\n",
    "\n",
    "X_test = test_new.get_text()\n",
    "Y_test = test_new.get_sentiment()\n",
    "Y_train.count(Sentiment.positive)"
   ]
  },
  {
   "cell_type": "markdown",
   "metadata": {},
   "source": [
    "### Feature extraction using TF-IDF vectorizer"
   ]
  },
  {
   "cell_type": "code",
   "execution_count": 58,
   "metadata": {},
   "outputs": [],
   "source": [
    "from sklearn.feature_extraction.text import TfidfVectorizer\n",
    "\n",
    "#TF-IDF considers the weights of each word that appears in the document\n",
    "vectorizer = TfidfVectorizer(analyzer='word', stop_words='english')\n",
    "X_train_vecs = vectorizer.fit_transform(X_train)\n",
    "X_test_vecs = vectorizer.transform(X_test)"
   ]
  },
  {
   "cell_type": "markdown",
   "metadata": {},
   "source": [
    "### Classifiers\n",
    "### SVM"
   ]
  },
  {
   "cell_type": "code",
   "execution_count": 59,
   "metadata": {},
   "outputs": [
    {
     "name": "stdout",
     "output_type": "stream",
     "text": [
      "True Sample Sentiment: positive\n",
      "Sample Prediction: ['positive']\n",
      "Mean Accuracy: 0.8695955369595537\n"
     ]
    }
   ],
   "source": [
    "from sklearn import svm\n",
    "from sklearn.model_selection import cross_val_score\n",
    "from sklearn import metrics\n",
    "\n",
    "lsvm_classifier = svm.SVC(kernel='rbf', C=8, random_state=42).fit(X_train_vecs, Y_train)\n",
    "\n",
    "print(\"True Sample Sentiment:\", Y_test[0])\n",
    "print(\"Sample Prediction:\", lsvm_classifier.predict(X_test_vecs[0]))\n",
    "print(\"Mean Accuracy:\", lsvm_classifier.score(X_test_vecs, Y_test))"
   ]
  },
  {
   "cell_type": "markdown",
   "metadata": {},
   "source": [
    "### Decision Tree"
   ]
  },
  {
   "cell_type": "code",
   "execution_count": 60,
   "metadata": {},
   "outputs": [
    {
     "name": "stdout",
     "output_type": "stream",
     "text": [
      "True Sample Sentiment: positive\n",
      "Sample Prediction: ['negative']\n",
      "Mean Accuracy: 0.698744769874477\n"
     ]
    }
   ],
   "source": [
    "from sklearn.tree import DecisionTreeClassifier\n",
    "\n",
    "dt_classifier = DecisionTreeClassifier(random_state=0)\n",
    "dt_classifier.fit(X_train_vecs, Y_train)\n",
    "\n",
    "print(\"True Sample Sentiment:\", Y_test[0])\n",
    "print(\"Sample Prediction:\", dt_classifier.predict(X_test_vecs[0]))\n",
    "print(\"Mean Accuracy:\", dt_classifier.score(X_test_vecs, Y_test))"
   ]
  },
  {
   "cell_type": "markdown",
   "metadata": {},
   "source": [
    "### Logistic Regression"
   ]
  },
  {
   "cell_type": "code",
   "execution_count": 61,
   "metadata": {},
   "outputs": [
    {
     "name": "stdout",
     "output_type": "stream",
     "text": [
      "True Sample Sentiment: positive\n",
      "Sample Prediction: ['positive']\n",
      "Mean Accuracy: 0.8688981868898187\n"
     ]
    }
   ],
   "source": [
    "from sklearn.linear_model import LogisticRegression\n",
    "\n",
    "lg_classifier = LogisticRegression(random_state=0, max_iter=500)\n",
    "lg_classifier.fit(X_train_vecs, Y_train)\n",
    "\n",
    "print(\"True Sample Sentiment:\", Y_test[0])\n",
    "print(\"Sample Prediction:\", lg_classifier.predict(X_test_vecs[0]))\n",
    "print(\"Mean Accuracy:\", lg_classifier.score(X_test_vecs, Y_test))"
   ]
  },
  {
   "cell_type": "markdown",
   "metadata": {},
   "source": [
    "### Evaluating Models using F1 score"
   ]
  },
  {
   "cell_type": "code",
   "execution_count": 62,
   "metadata": {},
   "outputs": [
    {
     "name": "stdout",
     "output_type": "stream",
     "text": [
      "[0.8707671  0.86840253] [0.69832402 0.69916435] [0.86962552 0.86816269]\n"
     ]
    }
   ],
   "source": [
    "from sklearn.metrics import f1_score\n",
    "\n",
    "f1_lsvm = f1_score(Y_test, lsvm_classifier.predict(X_test_vecs), average=None, labels=[Sentiment.positive, Sentiment.negative])\n",
    "f1_dt = f1_score(Y_test, dt_classifier.predict(X_test_vecs), average=None, labels=[Sentiment.positive, Sentiment.negative])\n",
    "f1_lg = f1_score(Y_test, lg_classifier.predict(X_test_vecs), average=None, labels=[Sentiment.positive, Sentiment.negative])\n",
    "\n",
    "print(f1_lsvm, f1_dt, f1_lg)"
   ]
  },
  {
   "cell_type": "markdown",
   "metadata": {},
   "source": [
    "### Confusion Matrix"
   ]
  },
  {
   "cell_type": "code",
   "execution_count": 63,
   "metadata": {},
   "outputs": [
    {
     "data": {
      "image/png": "[encoded data removed]",
      "text/plain": [
       "<Figure size 432x288 with 2 Axes>"
      ]
     },
     "metadata": {
      "needs_background": "light"
     },
     "output_type": "display_data"
    },
    {
     "data": {
      "image/png": "[encoded data removed]",
      "text/plain": [
       "<Figure size 432x288 with 2 Axes>"
      ]
     },
     "metadata": {
      "needs_background": "light"
     },
     "output_type": "display_data"
    },
    {
     "data": {
      "image/png": "[encoded data removed]",
      "text/plain": [
       "<Figure size 432x288 with 2 Axes>"
      ]
     },
     "metadata": {
      "needs_background": "light"
     },
     "output_type": "display_data"
    }
   ],
   "source": [
    "import matplotlib.pyplot as plt\n",
    "from sklearn.metrics import plot_confusion_matrix\n",
    "\n",
    "plot_confusion_matrix(lsvm_classifier, X_test_vecs, Y_test)  \n",
    "plot_confusion_matrix(dt_classifier, X_test_vecs, Y_test)  \n",
    "plot_confusion_matrix(lg_classifier, X_test_vecs, Y_test)  \n",
    "plt.show()\n"
   ]
  },
  {
   "cell_type": "markdown",
   "metadata": {},
   "source": [
    "### Model Tuning (Grid Search)"
   ]
  },
  {
   "cell_type": "code",
   "execution_count": 64,
   "metadata": {},
   "outputs": [],
   "source": [
    "# from sklearn import svm\n",
    "# from sklearn.model_selection import GridSearchCV\n",
    "\n",
    "# parameters = {'kernel':('linear', 'rbf', 'poly'), 'C':(1,4,8,12)}\n",
    "# svc = svm.SVC()\n",
    "# clf = GridSearchCV(svc, parameters)\n",
    "# clf.fit(X_train_vecs, Y_train)\n",
    "# print(\"Best parameters for SVM :\", clf.best_params_)"
   ]
  },
  {
   "cell_type": "markdown",
   "metadata": {},
   "source": [
    "### Performance Improvement using K-Fold Cross-Validation and Pipelining"
   ]
  },
  {
   "cell_type": "code",
   "execution_count": 69,
   "metadata": {},
   "outputs": [
    {
     "name": "stdout",
     "output_type": "stream",
     "text": [
      "Cross-validated F1 scores : [0.90291187 0.90768609 0.89797572 0.90770298 0.90839668]\n",
      "Mean Cross-validated F1 score : 0.9049346694138221\n"
     ]
    }
   ],
   "source": [
    "from sklearn.feature_extraction.text import TfidfVectorizer\n",
    "from sklearn import svm\n",
    "from sklearn.model_selection import cross_val_score\n",
    "from sklearn.metrics import f1_score\n",
    "from sklearn import metrics\n",
    "from sklearn.pipeline import Pipeline\n",
    "\n",
    "#using full data for k-fold cross validation \n",
    "full_data = ReviewCustom(reviews)\n",
    "full_data.distribute_even()\n",
    "X_full = full_data.get_text()\n",
    "Y_full = full_data.get_sentiment()\n",
    "\n",
    "# #TF-IDF considers the weights of each word that appears in the document\n",
    "# vectorizer = TfidfVectorizer(analyzer='word', stop_words='english')\n",
    "\n",
    "# #TF-IDF on full data \n",
    "# X_full_vecs = vectorizer.fit_transform(X_full)\n",
    "\n",
    "# lsvm_classifier = svm.SVC(kernel='rbf', C=8, random_state=42)\n",
    "\n",
    "pipeline = Pipeline([('vect', TfidfVectorizer()), ('svm', svm.SVC(kernel='rbf', C=8, random_state=42))])\n",
    "cross_val = cross_val_score(pipeline, X_full, Y_full, cv=5, scoring='f1_weighted')\n",
    "\n",
    "print(\"Cross-validated F1 scores :\", cross_val)\n",
    "print(\"Mean Cross-validated F1 score :\", cross_val.mean())"
   ]
  }
 ],
 "metadata": {
  "interpreter": {
   "hash": "2454a3adb90052121e3433f22c2e288f84a7f03217a2a46086941be12932708b"
  },
  "kernelspec": {
   "display_name": "Python 3.9.6 64-bit",
   "language": "python",
   "name": "python3"
  },
  "language_info": {
   "codemirror_mode": {
    "name": "ipython",
    "version": 3
   },
   "file_extension": ".py",
   "mimetype": "text/x-python",
   "name": "python",
   "nbconvert_exporter": "python",
   "pygments_lexer": "ipython3",
   "version": "3.9.6"
  },
  "orig_nbformat": 4
 },
 "nbformat": 4,
 "nbformat_minor": 2
}
