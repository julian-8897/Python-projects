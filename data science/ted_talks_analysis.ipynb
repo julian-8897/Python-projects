{
 "cells": [
  {
   "cell_type": "markdown",
   "metadata": {},
   "source": [
    "## Data Analysis of TED Talks"
   ]
  },
  {
   "cell_type": "markdown",
   "metadata": {},
   "source": [
    "### Source: https://www.kaggle.com/datasets/ashishjangra27/ted-talks"
   ]
  },
  {
   "cell_type": "markdown",
   "metadata": {},
   "source": [
    "### Imports\n"
   ]
  },
  {
   "cell_type": "code",
   "execution_count": 2,
   "metadata": {},
   "outputs": [],
   "source": [
    "import pandas as pd\n",
    "import seaborn as sns\n",
    "import matplotlib.pyplot as plt"
   ]
  },
  {
   "cell_type": "code",
   "execution_count": 3,
   "metadata": {},
   "outputs": [
    {
     "data": {
      "text/html": [
       "<div>\n",
       "<style scoped>\n",
       "    .dataframe tbody tr th:only-of-type {\n",
       "        vertical-align: middle;\n",
       "    }\n",
       "\n",
       "    .dataframe tbody tr th {\n",
       "        vertical-align: top;\n",
       "    }\n",
       "\n",
       "    .dataframe thead th {\n",
       "        text-align: right;\n",
       "    }\n",
       "</style>\n",
       "<table border=\"1\" class=\"dataframe\">\n",
       "  <thead>\n",
       "    <tr style=\"text-align: right;\">\n",
       "      <th></th>\n",
       "      <th>title</th>\n",
       "      <th>author</th>\n",
       "      <th>date</th>\n",
       "      <th>views</th>\n",
       "      <th>likes</th>\n",
       "      <th>link</th>\n",
       "    </tr>\n",
       "  </thead>\n",
       "  <tbody>\n",
       "    <tr>\n",
       "      <th>0</th>\n",
       "      <td>Climate action needs new frontline leadership</td>\n",
       "      <td>Ozawa Bineshi Albert</td>\n",
       "      <td>December 2021</td>\n",
       "      <td>404000</td>\n",
       "      <td>12000</td>\n",
       "      <td>https://ted.com/talks/ozawa_bineshi_albert_cli...</td>\n",
       "    </tr>\n",
       "    <tr>\n",
       "      <th>1</th>\n",
       "      <td>The dark history of the overthrow of Hawaii</td>\n",
       "      <td>Sydney Iaukea</td>\n",
       "      <td>February 2022</td>\n",
       "      <td>214000</td>\n",
       "      <td>6400</td>\n",
       "      <td>https://ted.com/talks/sydney_iaukea_the_dark_h...</td>\n",
       "    </tr>\n",
       "    <tr>\n",
       "      <th>2</th>\n",
       "      <td>How play can spark new ideas for your business</td>\n",
       "      <td>Martin Reeves</td>\n",
       "      <td>September 2021</td>\n",
       "      <td>412000</td>\n",
       "      <td>12000</td>\n",
       "      <td>https://ted.com/talks/martin_reeves_how_play_c...</td>\n",
       "    </tr>\n",
       "    <tr>\n",
       "      <th>3</th>\n",
       "      <td>Why is China appointing judges to combat clima...</td>\n",
       "      <td>James K. Thornton</td>\n",
       "      <td>October 2021</td>\n",
       "      <td>427000</td>\n",
       "      <td>12000</td>\n",
       "      <td>https://ted.com/talks/james_k_thornton_why_is_...</td>\n",
       "    </tr>\n",
       "    <tr>\n",
       "      <th>4</th>\n",
       "      <td>Cement's carbon problem — and 2 ways to fix it</td>\n",
       "      <td>Mahendra Singhi</td>\n",
       "      <td>October 2021</td>\n",
       "      <td>2400</td>\n",
       "      <td>72</td>\n",
       "      <td>https://ted.com/talks/mahendra_singhi_cement_s...</td>\n",
       "    </tr>\n",
       "  </tbody>\n",
       "</table>\n",
       "</div>"
      ],
      "text/plain": [
       "                                               title                author  \\\n",
       "0      Climate action needs new frontline leadership  Ozawa Bineshi Albert   \n",
       "1        The dark history of the overthrow of Hawaii         Sydney Iaukea   \n",
       "2     How play can spark new ideas for your business         Martin Reeves   \n",
       "3  Why is China appointing judges to combat clima...     James K. Thornton   \n",
       "4     Cement's carbon problem — and 2 ways to fix it       Mahendra Singhi   \n",
       "\n",
       "             date   views  likes  \\\n",
       "0   December 2021  404000  12000   \n",
       "1   February 2022  214000   6400   \n",
       "2  September 2021  412000  12000   \n",
       "3    October 2021  427000  12000   \n",
       "4    October 2021    2400     72   \n",
       "\n",
       "                                                link  \n",
       "0  https://ted.com/talks/ozawa_bineshi_albert_cli...  \n",
       "1  https://ted.com/talks/sydney_iaukea_the_dark_h...  \n",
       "2  https://ted.com/talks/martin_reeves_how_play_c...  \n",
       "3  https://ted.com/talks/james_k_thornton_why_is_...  \n",
       "4  https://ted.com/talks/mahendra_singhi_cement_s...  "
      ]
     },
     "execution_count": 3,
     "metadata": {},
     "output_type": "execute_result"
    }
   ],
   "source": [
    "df = pd.read_csv('csv/ted_talk_data.csv')\n",
    "df.head()"
   ]
  },
  {
   "cell_type": "code",
   "execution_count": 4,
   "metadata": {},
   "outputs": [],
   "source": [
    "df.isnull().sum()\n",
    "df_new = df.dropna()"
   ]
  },
  {
   "cell_type": "markdown",
   "metadata": {},
   "source": [
    "### Most Viewed TED talks"
   ]
  },
  {
   "cell_type": "code",
   "execution_count": 5,
   "metadata": {},
   "outputs": [
    {
     "data": {
      "text/html": [
       "<div>\n",
       "<style scoped>\n",
       "    .dataframe tbody tr th:only-of-type {\n",
       "        vertical-align: middle;\n",
       "    }\n",
       "\n",
       "    .dataframe tbody tr th {\n",
       "        vertical-align: top;\n",
       "    }\n",
       "\n",
       "    .dataframe thead th {\n",
       "        text-align: right;\n",
       "    }\n",
       "</style>\n",
       "<table border=\"1\" class=\"dataframe\">\n",
       "  <thead>\n",
       "    <tr style=\"text-align: right;\">\n",
       "      <th></th>\n",
       "      <th>title</th>\n",
       "      <th>author</th>\n",
       "      <th>date</th>\n",
       "      <th>views</th>\n",
       "      <th>likes</th>\n",
       "      <th>link</th>\n",
       "    </tr>\n",
       "  </thead>\n",
       "  <tbody>\n",
       "    <tr>\n",
       "      <th>5436</th>\n",
       "      <td>Do schools kill creativity?</td>\n",
       "      <td>Sir Ken Robinson</td>\n",
       "      <td>February 2006</td>\n",
       "      <td>72000000</td>\n",
       "      <td>2100000</td>\n",
       "      <td>https://ted.com/talks/sir_ken_robinson_do_scho...</td>\n",
       "    </tr>\n",
       "    <tr>\n",
       "      <th>4084</th>\n",
       "      <td>Your body language may shape who you are</td>\n",
       "      <td>Amy Cuddy</td>\n",
       "      <td>June 2012</td>\n",
       "      <td>64000000</td>\n",
       "      <td>1900000</td>\n",
       "      <td>https://ted.com/talks/amy_cuddy_your_body_lang...</td>\n",
       "    </tr>\n",
       "    <tr>\n",
       "      <th>2958</th>\n",
       "      <td>Inside the mind of a master procrastinator</td>\n",
       "      <td>Tim Urban</td>\n",
       "      <td>February 2016</td>\n",
       "      <td>60000000</td>\n",
       "      <td>1800000</td>\n",
       "      <td>https://ted.com/talks/tim_urban_inside_the_min...</td>\n",
       "    </tr>\n",
       "    <tr>\n",
       "      <th>4765</th>\n",
       "      <td>How great leaders inspire action</td>\n",
       "      <td>Simon Sinek</td>\n",
       "      <td>September 2009</td>\n",
       "      <td>57000000</td>\n",
       "      <td>1700000</td>\n",
       "      <td>https://ted.com/talks/simon_sinek_how_great_le...</td>\n",
       "    </tr>\n",
       "    <tr>\n",
       "      <th>4605</th>\n",
       "      <td>The power of vulnerability</td>\n",
       "      <td>Brené Brown</td>\n",
       "      <td>June 2010</td>\n",
       "      <td>56000000</td>\n",
       "      <td>1700000</td>\n",
       "      <td>https://ted.com/talks/brene_brown_the_power_of...</td>\n",
       "    </tr>\n",
       "  </tbody>\n",
       "</table>\n",
       "</div>"
      ],
      "text/plain": [
       "                                           title            author  \\\n",
       "5436                 Do schools kill creativity?  Sir Ken Robinson   \n",
       "4084    Your body language may shape who you are         Amy Cuddy   \n",
       "2958  Inside the mind of a master procrastinator         Tim Urban   \n",
       "4765            How great leaders inspire action       Simon Sinek   \n",
       "4605                  The power of vulnerability       Brené Brown   \n",
       "\n",
       "                date     views    likes  \\\n",
       "5436   February 2006  72000000  2100000   \n",
       "4084       June 2012  64000000  1900000   \n",
       "2958   February 2016  60000000  1800000   \n",
       "4765  September 2009  57000000  1700000   \n",
       "4605       June 2010  56000000  1700000   \n",
       "\n",
       "                                                   link  \n",
       "5436  https://ted.com/talks/sir_ken_robinson_do_scho...  \n",
       "4084  https://ted.com/talks/amy_cuddy_your_body_lang...  \n",
       "2958  https://ted.com/talks/tim_urban_inside_the_min...  \n",
       "4765  https://ted.com/talks/simon_sinek_how_great_le...  \n",
       "4605  https://ted.com/talks/brene_brown_the_power_of...  "
      ]
     },
     "execution_count": 5,
     "metadata": {},
     "output_type": "execute_result"
    }
   ],
   "source": [
    "most_viewed = df_new.sort_values(\"views\", ascending=False)\n",
    "most_viewed.head()"
   ]
  },
  {
   "cell_type": "code",
   "execution_count": 6,
   "metadata": {},
   "outputs": [
    {
     "data": {
      "text/plain": [
       "[Text(0.5, 1.0, 'Top 5 Most Viewed TED Talks by Author')]"
      ]
     },
     "execution_count": 6,
     "metadata": {},
     "output_type": "execute_result"
    },
    {
     "data": {
      "image/png": "[encoded data removed]",
      "text/plain": [
       "<Figure size 1152x360 with 1 Axes>"
      ]
     },
     "metadata": {},
     "output_type": "display_data"
    }
   ],
   "source": [
    "sns.set_theme()\n",
    "plt.figure(figsize=(16,5))\n",
    "sns.barplot(x=\"author\", y=\"views\", data=most_viewed[['author', 'views']].head(5)).set(title='Top 5 Most Viewed TED Talks by Author')"
   ]
  },
  {
   "cell_type": "markdown",
   "metadata": {},
   "source": [
    "### Least Viewed TED talks"
   ]
  },
  {
   "cell_type": "code",
   "execution_count": 7,
   "metadata": {},
   "outputs": [
    {
     "data": {
      "text/html": [
       "<div>\n",
       "<style scoped>\n",
       "    .dataframe tbody tr th:only-of-type {\n",
       "        vertical-align: middle;\n",
       "    }\n",
       "\n",
       "    .dataframe tbody tr th {\n",
       "        vertical-align: top;\n",
       "    }\n",
       "\n",
       "    .dataframe thead th {\n",
       "        text-align: right;\n",
       "    }\n",
       "</style>\n",
       "<table border=\"1\" class=\"dataframe\">\n",
       "  <thead>\n",
       "    <tr style=\"text-align: right;\">\n",
       "      <th></th>\n",
       "      <th>title</th>\n",
       "      <th>author</th>\n",
       "      <th>date</th>\n",
       "      <th>views</th>\n",
       "      <th>likes</th>\n",
       "      <th>link</th>\n",
       "    </tr>\n",
       "  </thead>\n",
       "  <tbody>\n",
       "    <tr>\n",
       "      <th>613</th>\n",
       "      <td>Post-Pandemic Paradise in Rapa Nui</td>\n",
       "      <td>Far Flung</td>\n",
       "      <td>October 2020</td>\n",
       "      <td>1200</td>\n",
       "      <td>37</td>\n",
       "      <td>https://ted.com/talks/far_flung_post_pandemic_...</td>\n",
       "    </tr>\n",
       "    <tr>\n",
       "      <th>552</th>\n",
       "      <td>Virtual Worlds</td>\n",
       "      <td>Far Flung</td>\n",
       "      <td>November 2020</td>\n",
       "      <td>1300</td>\n",
       "      <td>39</td>\n",
       "      <td>https://ted.com/talks/far_flung_virtual_worlds</td>\n",
       "    </tr>\n",
       "    <tr>\n",
       "      <th>1692</th>\n",
       "      <td>\"Part II. The Journey Through Time\" / \"Ruslan ...</td>\n",
       "      <td>Deutsche Philharmonie Merck</td>\n",
       "      <td>November 2018</td>\n",
       "      <td>1300</td>\n",
       "      <td>40</td>\n",
       "      <td>https://ted.com/talks/deutsche_philharmonie_me...</td>\n",
       "    </tr>\n",
       "    <tr>\n",
       "      <th>1064</th>\n",
       "      <td>\"Jamie Raeburn\" / \"Baloo Baleerie\" / \"Twa recr...</td>\n",
       "      <td>Findlay Napier and Gillian Frame</td>\n",
       "      <td>July 2019</td>\n",
       "      <td>1300</td>\n",
       "      <td>40</td>\n",
       "      <td>https://ted.com/talks/findlay_napier_and_gilli...</td>\n",
       "    </tr>\n",
       "    <tr>\n",
       "      <th>478</th>\n",
       "      <td>The case for public media</td>\n",
       "      <td>Qi Wu 吴琪</td>\n",
       "      <td>November 2020</td>\n",
       "      <td>1500</td>\n",
       "      <td>47</td>\n",
       "      <td>https://ted.com/talks/qi_wu_the_case_for_publi...</td>\n",
       "    </tr>\n",
       "    <tr>\n",
       "      <th>20</th>\n",
       "      <td>\"Dive In\"</td>\n",
       "      <td>Dave Matthews</td>\n",
       "      <td>October 2021</td>\n",
       "      <td>1600</td>\n",
       "      <td>49</td>\n",
       "      <td>https://ted.com/talks/dave_matthews_dive_in</td>\n",
       "    </tr>\n",
       "    <tr>\n",
       "      <th>541</th>\n",
       "      <td>A chef shares: Here's how we can feed the plan...</td>\n",
       "      <td>Peggy Chan</td>\n",
       "      <td>October 2020</td>\n",
       "      <td>2100</td>\n",
       "      <td>65</td>\n",
       "      <td>https://ted.com/talks/peggy_chan_a_chef_shares...</td>\n",
       "    </tr>\n",
       "    <tr>\n",
       "      <th>2230</th>\n",
       "      <td>Facing the future together</td>\n",
       "      <td>Rowan Fitzpatrick and Heart of Mind</td>\n",
       "      <td>December 2017</td>\n",
       "      <td>2200</td>\n",
       "      <td>68</td>\n",
       "      <td>https://ted.com/talks/rowan_fitzpatrick_and_he...</td>\n",
       "    </tr>\n",
       "    <tr>\n",
       "      <th>362</th>\n",
       "      <td>The revolutionary power of Black joy</td>\n",
       "      <td>Miracle Jones</td>\n",
       "      <td>April 2021</td>\n",
       "      <td>2400</td>\n",
       "      <td>74</td>\n",
       "      <td>https://ted.com/talks/miracle_jones_the_revolu...</td>\n",
       "    </tr>\n",
       "    <tr>\n",
       "      <th>4</th>\n",
       "      <td>Cement's carbon problem — and 2 ways to fix it</td>\n",
       "      <td>Mahendra Singhi</td>\n",
       "      <td>October 2021</td>\n",
       "      <td>2400</td>\n",
       "      <td>72</td>\n",
       "      <td>https://ted.com/talks/mahendra_singhi_cement_s...</td>\n",
       "    </tr>\n",
       "  </tbody>\n",
       "</table>\n",
       "</div>"
      ],
      "text/plain": [
       "                                                  title  \\\n",
       "613                  Post-Pandemic Paradise in Rapa Nui   \n",
       "552                                      Virtual Worlds   \n",
       "1692  \"Part II. The Journey Through Time\" / \"Ruslan ...   \n",
       "1064  \"Jamie Raeburn\" / \"Baloo Baleerie\" / \"Twa recr...   \n",
       "478                           The case for public media   \n",
       "20                                            \"Dive In\"   \n",
       "541   A chef shares: Here's how we can feed the plan...   \n",
       "2230                         Facing the future together   \n",
       "362                The revolutionary power of Black joy   \n",
       "4        Cement's carbon problem — and 2 ways to fix it   \n",
       "\n",
       "                                   author           date  views  likes  \\\n",
       "613                             Far Flung   October 2020   1200     37   \n",
       "552                             Far Flung  November 2020   1300     39   \n",
       "1692          Deutsche Philharmonie Merck  November 2018   1300     40   \n",
       "1064     Findlay Napier and Gillian Frame      July 2019   1300     40   \n",
       "478                              Qi Wu 吴琪  November 2020   1500     47   \n",
       "20                          Dave Matthews   October 2021   1600     49   \n",
       "541                            Peggy Chan   October 2020   2100     65   \n",
       "2230  Rowan Fitzpatrick and Heart of Mind  December 2017   2200     68   \n",
       "362                         Miracle Jones     April 2021   2400     74   \n",
       "4                         Mahendra Singhi   October 2021   2400     72   \n",
       "\n",
       "                                                   link  \n",
       "613   https://ted.com/talks/far_flung_post_pandemic_...  \n",
       "552      https://ted.com/talks/far_flung_virtual_worlds  \n",
       "1692  https://ted.com/talks/deutsche_philharmonie_me...  \n",
       "1064  https://ted.com/talks/findlay_napier_and_gilli...  \n",
       "478   https://ted.com/talks/qi_wu_the_case_for_publi...  \n",
       "20          https://ted.com/talks/dave_matthews_dive_in  \n",
       "541   https://ted.com/talks/peggy_chan_a_chef_shares...  \n",
       "2230  https://ted.com/talks/rowan_fitzpatrick_and_he...  \n",
       "362   https://ted.com/talks/miracle_jones_the_revolu...  \n",
       "4     https://ted.com/talks/mahendra_singhi_cement_s...  "
      ]
     },
     "execution_count": 7,
     "metadata": {},
     "output_type": "execute_result"
    }
   ],
   "source": [
    "least_viewed = df_new.sort_values(\"views\")\n",
    "least_viewed.head(10)"
   ]
  },
  {
   "cell_type": "code",
   "execution_count": 8,
   "metadata": {},
   "outputs": [
    {
     "data": {
      "text/plain": [
       "[Text(0.5, 1.0, 'Top 5 Least Viewed TED Talks by Author')]"
      ]
     },
     "execution_count": 8,
     "metadata": {},
     "output_type": "execute_result"
    },
    {
     "name": "stderr",
     "output_type": "stream",
     "text": [
      "C:\\Users\\pc 3\\AppData\\Roaming\\Python\\Python39\\site-packages\\matplotlib\\backends\\backend_agg.py:240: RuntimeWarning: Glyph 21556 missing from current font.\n",
      "  font.set_text(s, 0.0, flags=flags)\n",
      "C:\\Users\\pc 3\\AppData\\Roaming\\Python\\Python39\\site-packages\\matplotlib\\backends\\backend_agg.py:240: RuntimeWarning: Glyph 29738 missing from current font.\n",
      "  font.set_text(s, 0.0, flags=flags)\n",
      "C:\\Users\\pc 3\\AppData\\Roaming\\Python\\Python39\\site-packages\\matplotlib\\backends\\backend_agg.py:203: RuntimeWarning: Glyph 21556 missing from current font.\n",
      "  font.set_text(s, 0, flags=flags)\n",
      "C:\\Users\\pc 3\\AppData\\Roaming\\Python\\Python39\\site-packages\\matplotlib\\backends\\backend_agg.py:203: RuntimeWarning: Glyph 29738 missing from current font.\n",
      "  font.set_text(s, 0, flags=flags)\n"
     ]
    },
    {
     "data": {
      "image/png": "[encoded data removed]",
      "text/plain": [
       "<Figure size 1152x360 with 1 Axes>"
      ]
     },
     "metadata": {},
     "output_type": "display_data"
    }
   ],
   "source": [
    "sns.set_theme()\n",
    "plt.figure(figsize=(16,5))\n",
    "sns.barplot(x=\"author\", \n",
    "            y=\"views\", \n",
    "            data=least_viewed[['author', 'views']].head()\n",
    ").set(title='Top 5 Least Viewed TED Talks by Author')"
   ]
  },
  {
   "cell_type": "markdown",
   "metadata": {},
   "source": [
    "### Linear Relationship between Views and Likes "
   ]
  },
  {
   "cell_type": "code",
   "execution_count": 9,
   "metadata": {},
   "outputs": [
    {
     "data": {
      "text/plain": [
       "[Text(0.5, 1.0, 'Correlation between No. of Views and No. of Likes')]"
      ]
     },
     "execution_count": 9,
     "metadata": {},
     "output_type": "execute_result"
    },
    {
     "data": {
      "image/png": "[encoded data removed]",
      "text/plain": [
       "<Figure size 576x576 with 1 Axes>"
      ]
     },
     "metadata": {},
     "output_type": "display_data"
    }
   ],
   "source": [
    "# sns.pairplot(\n",
    "#     df_new,\n",
    "#     x_vars=[\"views\"],\n",
    "#     y_vars=[\"likes\"],\n",
    "#     height=6\n",
    "# )\n",
    "sns.set_theme()\n",
    "plt.figure(figsize=(8,8))\n",
    "sns.regplot(x='views',\n",
    "            y='likes',\n",
    "            data=df_new[['views', 'likes']]\n",
    ").set(title=\"Correlation between No. of Views and No. of Likes\")"
   ]
  },
  {
   "cell_type": "markdown",
   "metadata": {},
   "source": [
    "### TED Talks with the Highest Views to Likes Ratio"
   ]
  },
  {
   "cell_type": "code",
   "execution_count": 10,
   "metadata": {},
   "outputs": [
    {
     "data": {
      "text/html": [
       "<div>\n",
       "<style scoped>\n",
       "    .dataframe tbody tr th:only-of-type {\n",
       "        vertical-align: middle;\n",
       "    }\n",
       "\n",
       "    .dataframe tbody tr th {\n",
       "        vertical-align: top;\n",
       "    }\n",
       "\n",
       "    .dataframe thead th {\n",
       "        text-align: right;\n",
       "    }\n",
       "</style>\n",
       "<table border=\"1\" class=\"dataframe\">\n",
       "  <thead>\n",
       "    <tr style=\"text-align: right;\">\n",
       "      <th></th>\n",
       "      <th>title</th>\n",
       "      <th>author</th>\n",
       "      <th>date</th>\n",
       "      <th>views</th>\n",
       "      <th>likes</th>\n",
       "      <th>link</th>\n",
       "      <th>Views to Likes Ratio</th>\n",
       "    </tr>\n",
       "  </thead>\n",
       "  <tbody>\n",
       "    <tr>\n",
       "      <th>955</th>\n",
       "      <td>A camera that can see around corners</td>\n",
       "      <td>David Lindell</td>\n",
       "      <td>November 2019</td>\n",
       "      <td>364000</td>\n",
       "      <td>10000</td>\n",
       "      <td>https://ted.com/talks/david_lindell_a_camera_t...</td>\n",
       "      <td>36.4</td>\n",
       "    </tr>\n",
       "    <tr>\n",
       "      <th>905</th>\n",
       "      <td>What's the point(e) of ballet?</td>\n",
       "      <td>Ming Luke</td>\n",
       "      <td>April 2020</td>\n",
       "      <td>364000</td>\n",
       "      <td>10000</td>\n",
       "      <td>https://ted.com/talks/ming_luke_what_s_the_poi...</td>\n",
       "      <td>36.4</td>\n",
       "    </tr>\n",
       "    <tr>\n",
       "      <th>837</th>\n",
       "      <td>How to see more and care less: The art of Geor...</td>\n",
       "      <td>Iseult Gillespie</td>\n",
       "      <td>June 2020</td>\n",
       "      <td>364000</td>\n",
       "      <td>10000</td>\n",
       "      <td>https://ted.com/talks/iseult_gillespie_how_to_...</td>\n",
       "      <td>36.4</td>\n",
       "    </tr>\n",
       "    <tr>\n",
       "      <th>26</th>\n",
       "      <td>Can you outsmart the fallacy that divided a na...</td>\n",
       "      <td>Elizabeth Cox</td>\n",
       "      <td>February 2022</td>\n",
       "      <td>363000</td>\n",
       "      <td>10000</td>\n",
       "      <td>https://ted.com/talks/elizabeth_cox_can_you_ou...</td>\n",
       "      <td>36.3</td>\n",
       "    </tr>\n",
       "    <tr>\n",
       "      <th>1016</th>\n",
       "      <td>The function and fashion of eyeglasses</td>\n",
       "      <td>Debbie Millman</td>\n",
       "      <td>January 2020</td>\n",
       "      <td>363000</td>\n",
       "      <td>10000</td>\n",
       "      <td>https://ted.com/talks/debbie_millman_the_funct...</td>\n",
       "      <td>36.3</td>\n",
       "    </tr>\n",
       "  </tbody>\n",
       "</table>\n",
       "</div>"
      ],
      "text/plain": [
       "                                                  title            author  \\\n",
       "955                A camera that can see around corners     David Lindell   \n",
       "905                      What's the point(e) of ballet?         Ming Luke   \n",
       "837   How to see more and care less: The art of Geor...  Iseult Gillespie   \n",
       "26    Can you outsmart the fallacy that divided a na...     Elizabeth Cox   \n",
       "1016             The function and fashion of eyeglasses    Debbie Millman   \n",
       "\n",
       "               date   views  likes  \\\n",
       "955   November 2019  364000  10000   \n",
       "905      April 2020  364000  10000   \n",
       "837       June 2020  364000  10000   \n",
       "26    February 2022  363000  10000   \n",
       "1016   January 2020  363000  10000   \n",
       "\n",
       "                                                   link  Views to Likes Ratio  \n",
       "955   https://ted.com/talks/david_lindell_a_camera_t...                  36.4  \n",
       "905   https://ted.com/talks/ming_luke_what_s_the_poi...                  36.4  \n",
       "837   https://ted.com/talks/iseult_gillespie_how_to_...                  36.4  \n",
       "26    https://ted.com/talks/elizabeth_cox_can_you_ou...                  36.3  \n",
       "1016  https://ted.com/talks/debbie_millman_the_funct...                  36.3  "
      ]
     },
     "execution_count": 10,
     "metadata": {},
     "output_type": "execute_result"
    }
   ],
   "source": [
    "df_copy = df_new.copy(deep=True)\n",
    "df_copy['Views to Likes Ratio'] = df_copy['views'].div(df['likes'])\n",
    "\n",
    "views_to_likes = df_copy.sort_values(\"Views to Likes Ratio\", ascending=False)\n",
    "views_to_likes.head()"
   ]
  },
  {
   "cell_type": "code",
   "execution_count": 11,
   "metadata": {},
   "outputs": [
    {
     "data": {
      "text/plain": [
       "[Text(0.5, 1.0, 'Top 5 TED Talks by Views to Likes Ratio')]"
      ]
     },
     "execution_count": 11,
     "metadata": {},
     "output_type": "execute_result"
    },
    {
     "data": {
      "image/png": "[encoded data removed]",
      "text/plain": [
       "<Figure size 1152x360 with 1 Axes>"
      ]
     },
     "metadata": {},
     "output_type": "display_data"
    }
   ],
   "source": [
    "sns.set_theme()\n",
    "plt.figure(figsize=(16,5))\n",
    "sns.barplot(x=\"author\", \n",
    "            y=\"Views to Likes Ratio\", \n",
    "            data=views_to_likes[['author', 'Views to Likes Ratio']].head()\n",
    ").set(title='Top 5 TED Talks by Views to Likes Ratio')"
   ]
  },
  {
   "cell_type": "markdown",
   "metadata": {},
   "source": [
    "### Frequency of TED Talks Every Year"
   ]
  },
  {
   "cell_type": "code",
   "execution_count": 47,
   "metadata": {},
   "outputs": [
    {
     "data": {
      "text/plain": [
       "Text(0, 0.5, 'Frequency (No. of Talks)')"
      ]
     },
     "execution_count": 47,
     "metadata": {},
     "output_type": "execute_result"
    },
    {
     "data": {
      "image/png": "[encoded data removed]",
      "text/plain": [
       "<Figure size 864x576 with 1 Axes>"
      ]
     },
     "metadata": {},
     "output_type": "display_data"
    }
   ],
   "source": [
    "df_copy['Year'] = df_copy.date.apply(lambda x: x.split()[1])\n",
    "data_year = df_copy.Year.value_counts().sort_index()\n",
    "data_year.plot(kind = 'bar', figsize=(12,8),title=\"Number of TED talks per year\")\n",
    "plt.xlabel(\"Year\")\n",
    "plt.ylabel(\"Frequency (No. of Talks)\")"
   ]
  },
  {
   "cell_type": "markdown",
   "metadata": {},
   "source": [
    "## List of all TED Talks by Bill Gates"
   ]
  },
  {
   "cell_type": "code",
   "execution_count": 55,
   "metadata": {},
   "outputs": [
    {
     "data": {
      "text/html": [
       "<div>\n",
       "<style scoped>\n",
       "    .dataframe tbody tr th:only-of-type {\n",
       "        vertical-align: middle;\n",
       "    }\n",
       "\n",
       "    .dataframe tbody tr th {\n",
       "        vertical-align: top;\n",
       "    }\n",
       "\n",
       "    .dataframe thead th {\n",
       "        text-align: right;\n",
       "    }\n",
       "</style>\n",
       "<table border=\"1\" class=\"dataframe\">\n",
       "  <thead>\n",
       "    <tr style=\"text-align: right;\">\n",
       "      <th></th>\n",
       "      <th>title</th>\n",
       "      <th>link</th>\n",
       "    </tr>\n",
       "  </thead>\n",
       "  <tbody>\n",
       "    <tr>\n",
       "      <th>403</th>\n",
       "      <td>The innovations we need to avoid a climate dis...</td>\n",
       "      <td>https://ted.com/talks/bill_gates_the_innovatio...</td>\n",
       "    </tr>\n",
       "    <tr>\n",
       "      <th>789</th>\n",
       "      <td>How the pandemic will shape the near future</td>\n",
       "      <td>https://ted.com/talks/bill_gates_how_the_pande...</td>\n",
       "    </tr>\n",
       "    <tr>\n",
       "      <th>952</th>\n",
       "      <td>How we must respond to the coronavirus pandemic</td>\n",
       "      <td>https://ted.com/talks/bill_gates_how_we_must_r...</td>\n",
       "    </tr>\n",
       "    <tr>\n",
       "      <th>3251</th>\n",
       "      <td>The next outbreak? We're not ready</td>\n",
       "      <td>https://ted.com/talks/bill_gates_the_next_outb...</td>\n",
       "    </tr>\n",
       "    <tr>\n",
       "      <th>3878</th>\n",
       "      <td>Teachers need real feedback</td>\n",
       "      <td>https://ted.com/talks/bill_gates_teachers_need...</td>\n",
       "    </tr>\n",
       "    <tr>\n",
       "      <th>4560</th>\n",
       "      <td>How state budgets are breaking US schools</td>\n",
       "      <td>https://ted.com/talks/bill_gates_how_state_bud...</td>\n",
       "    </tr>\n",
       "    <tr>\n",
       "      <th>4824</th>\n",
       "      <td>Innovating to zero!</td>\n",
       "      <td>https://ted.com/talks/bill_gates_innovating_to...</td>\n",
       "    </tr>\n",
       "    <tr>\n",
       "      <th>5062</th>\n",
       "      <td>Mosquitos, malaria and education</td>\n",
       "      <td>https://ted.com/talks/bill_gates_mosquitos_mal...</td>\n",
       "    </tr>\n",
       "  </tbody>\n",
       "</table>\n",
       "</div>"
      ],
      "text/plain": [
       "                                                  title  \\\n",
       "403   The innovations we need to avoid a climate dis...   \n",
       "789         How the pandemic will shape the near future   \n",
       "952     How we must respond to the coronavirus pandemic   \n",
       "3251                 The next outbreak? We're not ready   \n",
       "3878                        Teachers need real feedback   \n",
       "4560          How state budgets are breaking US schools   \n",
       "4824                                Innovating to zero!   \n",
       "5062                   Mosquitos, malaria and education   \n",
       "\n",
       "                                                   link  \n",
       "403   https://ted.com/talks/bill_gates_the_innovatio...  \n",
       "789   https://ted.com/talks/bill_gates_how_the_pande...  \n",
       "952   https://ted.com/talks/bill_gates_how_we_must_r...  \n",
       "3251  https://ted.com/talks/bill_gates_the_next_outb...  \n",
       "3878  https://ted.com/talks/bill_gates_teachers_need...  \n",
       "4560  https://ted.com/talks/bill_gates_how_state_bud...  \n",
       "4824  https://ted.com/talks/bill_gates_innovating_to...  \n",
       "5062  https://ted.com/talks/bill_gates_mosquitos_mal...  "
      ]
     },
     "execution_count": 55,
     "metadata": {},
     "output_type": "execute_result"
    }
   ],
   "source": [
    "bill_talks = df_new.loc[df_new['author'] == 'Bill Gates'][['title', 'link']]\n",
    "bill_talks"
   ]
  }
 ],
 "metadata": {
  "interpreter": {
   "hash": "2454a3adb90052121e3433f22c2e288f84a7f03217a2a46086941be12932708b"
  },
  "kernelspec": {
   "display_name": "Python 3.9.6 64-bit",
   "language": "python",
   "name": "python3"
  },
  "language_info": {
   "codemirror_mode": {
    "name": "ipython",
    "version": 3
   },
   "file_extension": ".py",
   "mimetype": "text/x-python",
   "name": "python",
   "nbconvert_exporter": "python",
   "pygments_lexer": "ipython3",
   "version": "3.9.6"
  },
  "orig_nbformat": 4
 },
 "nbformat": 4,
 "nbformat_minor": 2
}
