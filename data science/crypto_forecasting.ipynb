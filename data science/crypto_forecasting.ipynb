{
 "cells": [
  {
   "cell_type": "markdown",
   "metadata": {},
   "source": [
    "Install required packages:\n",
    "```\n",
    "pip3 install yfinance\n",
    "pip3 install yahoofinancials\n",
    "```"
   ]
  },
  {
   "cell_type": "markdown",
   "metadata": {},
   "source": [
    "## Imports"
   ]
  },
  {
   "cell_type": "code",
   "execution_count": 37,
   "metadata": {},
   "outputs": [],
   "source": [
    "import numpy as np\n",
    "import pandas as pd\n",
    "import matplotlib.pyplot as plt\n",
    "from sklearn.metrics import mean_absolute_error as mae\n",
    "from sklearn.preprocessing import StandardScaler\n",
    "import yfinance as yf\n",
    "from yahoofinancials import YahooFinancials"
   ]
  },
  {
   "cell_type": "code",
   "execution_count": 38,
   "metadata": {},
   "outputs": [
    {
     "data": {
      "text/html": [
       "<div>\n",
       "<style scoped>\n",
       "    .dataframe tbody tr th:only-of-type {\n",
       "        vertical-align: middle;\n",
       "    }\n",
       "\n",
       "    .dataframe tbody tr th {\n",
       "        vertical-align: top;\n",
       "    }\n",
       "\n",
       "    .dataframe thead th {\n",
       "        text-align: right;\n",
       "    }\n",
       "</style>\n",
       "<table border=\"1\" class=\"dataframe\">\n",
       "  <thead>\n",
       "    <tr style=\"text-align: right;\">\n",
       "      <th></th>\n",
       "      <th>Open</th>\n",
       "      <th>High</th>\n",
       "      <th>Low</th>\n",
       "      <th>Close</th>\n",
       "      <th>Adj Close</th>\n",
       "      <th>Volume</th>\n",
       "    </tr>\n",
       "    <tr>\n",
       "      <th>Date</th>\n",
       "      <th></th>\n",
       "      <th></th>\n",
       "      <th></th>\n",
       "      <th></th>\n",
       "      <th></th>\n",
       "      <th></th>\n",
       "    </tr>\n",
       "  </thead>\n",
       "  <tbody>\n",
       "    <tr>\n",
       "      <th>2021-01-01</th>\n",
       "      <td>21206.855469</td>\n",
       "      <td>21650.548828</td>\n",
       "      <td>21067.576172</td>\n",
       "      <td>21483.314453</td>\n",
       "      <td>21483.314453</td>\n",
       "      <td>29788839044</td>\n",
       "    </tr>\n",
       "    <tr>\n",
       "      <th>2021-01-02</th>\n",
       "      <td>21485.000000</td>\n",
       "      <td>24248.593750</td>\n",
       "      <td>21276.359375</td>\n",
       "      <td>23496.855469</td>\n",
       "      <td>23496.855469</td>\n",
       "      <td>49634597054</td>\n",
       "    </tr>\n",
       "    <tr>\n",
       "      <th>2021-01-03</th>\n",
       "      <td>23498.419922</td>\n",
       "      <td>25311.591797</td>\n",
       "      <td>23442.039062</td>\n",
       "      <td>23961.103516</td>\n",
       "      <td>23961.103516</td>\n",
       "      <td>57498151044</td>\n",
       "    </tr>\n",
       "    <tr>\n",
       "      <th>2021-01-04</th>\n",
       "      <td>23982.244141</td>\n",
       "      <td>24417.646484</td>\n",
       "      <td>21000.929688</td>\n",
       "      <td>23558.984375</td>\n",
       "      <td>23558.984375</td>\n",
       "      <td>59806524259</td>\n",
       "    </tr>\n",
       "    <tr>\n",
       "      <th>2021-01-05</th>\n",
       "      <td>23562.761719</td>\n",
       "      <td>25281.978516</td>\n",
       "      <td>22227.591797</td>\n",
       "      <td>24943.916016</td>\n",
       "      <td>24943.916016</td>\n",
       "      <td>49566767303</td>\n",
       "    </tr>\n",
       "  </tbody>\n",
       "</table>\n",
       "</div>"
      ],
      "text/plain": [
       "                    Open          High           Low         Close  \\\n",
       "Date                                                                 \n",
       "2021-01-01  21206.855469  21650.548828  21067.576172  21483.314453   \n",
       "2021-01-02  21485.000000  24248.593750  21276.359375  23496.855469   \n",
       "2021-01-03  23498.419922  25311.591797  23442.039062  23961.103516   \n",
       "2021-01-04  23982.244141  24417.646484  21000.929688  23558.984375   \n",
       "2021-01-05  23562.761719  25281.978516  22227.591797  24943.916016   \n",
       "\n",
       "               Adj Close       Volume  \n",
       "Date                                   \n",
       "2021-01-01  21483.314453  29788839044  \n",
       "2021-01-02  23496.855469  49634597054  \n",
       "2021-01-03  23961.103516  57498151044  \n",
       "2021-01-04  23558.984375  59806524259  \n",
       "2021-01-05  24943.916016  49566767303  "
      ]
     },
     "execution_count": 38,
     "metadata": {},
     "output_type": "execute_result"
    }
   ],
   "source": [
    "#dataframe for crypto pricing data\n",
    "df = yf.download('BTC-GBP',\n",
    "   start='2021-01-01',\n",
    "   end='2021-06-01',\n",
    "   progress=False)\n",
    "df.head()"
   ]
  },
  {
   "cell_type": "code",
   "execution_count": 39,
   "metadata": {},
   "outputs": [],
   "source": [
    "series = df['Close'].values.reshape(-1, 1)"
   ]
  },
  {
   "cell_type": "code",
   "execution_count": 40,
   "metadata": {},
   "outputs": [],
   "source": [
    "scaler = StandardScaler()\n",
    "scaler.fit(series[0:len(series)//2])\n",
    "series = scaler.transform(series).flatten()"
   ]
  },
  {
   "cell_type": "code",
   "execution_count": 41,
   "metadata": {},
   "outputs": [
    {
     "name": "stdout",
     "output_type": "stream",
     "text": [
      "X.shape (141, 10) Y.shape (141,)\n"
     ]
    }
   ],
   "source": [
    "T_days = 10\n",
    "D = 1\n",
    "X = []\n",
    "Y = []\n",
    "\n",
    "for i in range(len(series) - T_days):\n",
    "    x_vals = series[i:i+T_days]\n",
    "    X.append(x_vals)\n",
    "    y_vals = series[i + T_days]\n",
    "    Y.append(y_vals)\n",
    "\n",
    "X = np.array(X).reshape(-1, T_days)\n",
    "Y = np.array(Y)\n",
    "print(\"X.shape\", X.shape, \"Y.shape\", Y.shape)\n",
    "\n"
   ]
  }
 ],
 "metadata": {
  "interpreter": {
   "hash": "2454a3adb90052121e3433f22c2e288f84a7f03217a2a46086941be12932708b"
  },
  "kernelspec": {
   "display_name": "Python 3.9.6 64-bit",
   "language": "python",
   "name": "python3"
  },
  "language_info": {
   "codemirror_mode": {
    "name": "ipython",
    "version": 3
   },
   "file_extension": ".py",
   "mimetype": "text/x-python",
   "name": "python",
   "nbconvert_exporter": "python",
   "pygments_lexer": "ipython3",
   "version": "3.9.6"
  },
  "orig_nbformat": 4
 },
 "nbformat": 4,
 "nbformat_minor": 2
}
